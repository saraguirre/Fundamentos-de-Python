{
  "nbformat": 4,
  "nbformat_minor": 0,
  "metadata": {
    "colab": {
      "provenance": [],
      "authorship_tag": "ABX9TyMf7ZHbnh2fRR62TfJ6Rt24",
      "include_colab_link": true
    },
    "kernelspec": {
      "name": "python3",
      "display_name": "Python 3"
    },
    "language_info": {
      "name": "python"
    }
  },
  "cells": [
    {
      "cell_type": "markdown",
      "metadata": {
        "id": "view-in-github",
        "colab_type": "text"
      },
      "source": [
        "<a href=\"https://colab.research.google.com/github/saraguirre/Fundamentos-de-Python/blob/main/Taller_00_27_10_2024.ipynb\" target=\"_parent\"><img src=\"https://colab.research.google.com/assets/colab-badge.svg\" alt=\"Open In Colab\"/></a>"
      ]
    },
    {
      "cell_type": "markdown",
      "source": [
        "# Ejercicio de Google Colab\n"
      ],
      "metadata": {
        "id": "TNAZHxVacnOQ"
      }
    },
    {
      "cell_type": "code",
      "execution_count": null,
      "metadata": {
        "id": "mZYLJm1_bZ1n"
      },
      "outputs": [],
      "source": [
        "1# Escribir programa de prueba\n",
        "2 print(\"Hola mundo\")"
      ]
    },
    {
      "cell_type": "markdown",
      "source": [
        "# Segundo ejemplo"
      ],
      "metadata": {
        "id": "GiSyOuzsc3fJ"
      }
    },
    {
      "cell_type": "code",
      "source": [
        "from re import I\n",
        "#Pesonalizar las casillas de codigo\n",
        "print (\"Esto es una lista\")\n",
        "\n",
        "Lista_0=[\"a\",\"b\",\"c\"]\n",
        "\n",
        "# Mostrar lista\n",
        "print(Lista_0)\n",
        "\n",
        "#Crear un ciclo for\n",
        "for in Lista_0:\n",
        "  print(i)\n",
        ""
      ],
      "metadata": {
        "colab": {
          "base_uri": "https://localhost:8080/"
        },
        "id": "qEJlH3YLc6m5",
        "outputId": "5bb98525-a6f7-44f9-f1ad-b484aea37276"
      },
      "execution_count": 2,
      "outputs": [
        {
          "output_type": "stream",
          "name": "stdout",
          "text": [
            "Esto es una lista\n",
            "['a', 'b', 'c']\n"
          ]
        }
      ]
    }
  ]
}